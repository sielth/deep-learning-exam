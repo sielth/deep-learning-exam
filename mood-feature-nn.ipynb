{
  "cells": [
    {
      "cell_type": "code",
      "execution_count": 1,
      "metadata": {
        "id": "oUyzlpm_97W-"
      },
      "outputs": [],
      "source": [
        "import pandas as pd, torch, torch.nn as nn\n",
        "from torch.utils.data import TensorDataset, DataLoader\n",
        "from sklearn.model_selection import StratifiedKFold\n",
        "from sklearn.metrics import classification_report\n",
        "from sklearn.preprocessing import LabelEncoder\n",
        "import matplotlib.pyplot as plt\n",
        "import numpy as np"
      ]
    },
    {
      "attachments": {},
      "cell_type": "markdown",
      "metadata": {
        "id": "Vhrb0tKUidGI"
      },
      "source": [
        "## Make dataset"
      ]
    },
    {
      "cell_type": "code",
      "execution_count": 2,
      "metadata": {
        "id": "lqnclebH_8_k"
      },
      "outputs": [],
      "source": [
        "device = torch.device(\"cuda\")\n",
        "full_dataset = pd.read_csv(\"https://raw.githubusercontent.com/cristobalvch/Spotify-Machine-Learning/master/data/data_moods.csv\")\n",
        "func_dataset = full_dataset[[\"danceability\", \"acousticness\", \"energy\", \n",
        "                        \"instrumentalness\", \"liveness\", \"valence\",\n",
        "                        \"loudness\", \"speechiness\", \"tempo\", \"key\",\n",
        "                        \"time_signature\"]]\n",
        "func_dataset = func_dataset.to_numpy()\n",
        "mood_dataset = pd.DataFrame()\n",
        "mood_dataset[\"mood\"] = full_dataset[\"mood\"]\n",
        "le = LabelEncoder() \n",
        "mood_dataset[\"label\"] = le.fit_transform(mood_dataset[\"mood\"])\n",
        "data_output = mood_dataset[\"label\"].values"
      ]
    },
    {
      "attachments": {},
      "cell_type": "markdown",
      "metadata": {},
      "source": [
        "## Model"
      ]
    },
    {
      "cell_type": "code",
      "execution_count": 3,
      "metadata": {},
      "outputs": [],
      "source": [
        "class Model(nn.Module):\n",
        "    def __init__(self, input_size, hidden_size, output_size):\n",
        "        super().__init__()\n",
        "        self.layer1 = nn.Linear(input_size, hidden_size)  \n",
        "        self.layer2 = nn.Linear(hidden_size, output_size)  \n",
        "\n",
        "    def forward(self, x):\n",
        "        x = self.layer1(x)\n",
        "        x = nn.ReLU()(x)\n",
        "        x = self.layer2(x)\n",
        "        x = nn.Softmax(dim=1)(x)\n",
        "        return x"
      ]
    },
    {
      "attachments": {},
      "cell_type": "markdown",
      "metadata": {
        "id": "u-W2qNNaijhA"
      },
      "source": [
        "## Training with StratifiedKFold"
      ]
    },
    {
      "cell_type": "code",
      "execution_count": 4,
      "metadata": {},
      "outputs": [],
      "source": [
        "skf = StratifiedKFold(n_splits=5, random_state=1, shuffle=True)\n",
        "\n",
        "for train_index, test_index in skf.split(func_dataset, data_output):\n",
        "        X_train_skf, X_test_skf = func_dataset[train_index], func_dataset[test_index]\n",
        "        y_train_skf, y_test_skf = data_output[train_index], data_output[test_index]\n",
        "\n",
        "        X_train = np.array(X_train_skf)\n",
        "        X_test = X_test_skf\n",
        "        y_train = y_train_skf\n",
        "        y_test = y_test_skf\n",
        "\n",
        "        # Normalization\n",
        "        X_train_norm = (X_train - X_train.mean() / X_train.std())\n",
        "        X_train_norm = torch.tensor(X_train_norm)\n",
        "        y_train = torch.tensor(y_train)\n",
        "\n",
        "        # Make the split data into TensorDataset & DataLoader objects\n",
        "        inputs = X_train_norm.to(device)\n",
        "        labels = y_train.to(device)\n",
        "\n",
        "        train_ds = TensorDataset(inputs, labels)\n",
        "\n",
        "        torch.manual_seed(1)\n",
        "        batch_size = 2\n",
        "        train_dl = DataLoader(train_ds, batch_size, shuffle=True)\n",
        "\n",
        "        # Training setup\n",
        "        input_size = X_train_norm.shape[1]\n",
        "        hidden_size = 32\n",
        "        output_size = 4\n",
        "        \n",
        "        model = Model(input_size, hidden_size, output_size)\n",
        "        model.to(device)\n",
        "\n",
        "        learning_rate = 0.001\n",
        "\n",
        "        loss_fn = nn.CrossEntropyLoss()\n",
        "        \n",
        "        optimizer = torch.optim.Adam(model.parameters(), lr=learning_rate)\n",
        "\n",
        "        # Training loop\n",
        "        num_epochs = 33\n",
        "        loss_hist = [0] * num_epochs\n",
        "        accuracy_hist = [0] * num_epochs\n",
        "\n",
        "        for epoch in range(num_epochs):\n",
        "            for x_batch, y_batch in train_dl:\n",
        "                pred = model(x_batch.float())\n",
        "                loss = loss_fn(pred, y_batch.long())\n",
        "                loss.backward()\n",
        "                optimizer.step()\n",
        "                optimizer.zero_grad()\n",
        "            \n",
        "                loss_hist[epoch] += loss.item()*y_batch.size(0)\n",
        "                is_correct = (torch.argmax(pred, dim=1) == y_batch).float()\n",
        "                accuracy_hist[epoch] += is_correct.sum()\n",
        "\n",
        "            loss_hist[epoch] /= len(train_dl.dataset)\n",
        "            accuracy_hist[epoch] /= len(train_dl.dataset)"
      ]
    },
    {
      "attachments": {},
      "cell_type": "markdown",
      "metadata": {},
      "source": [
        "## Evaluation"
      ]
    },
    {
      "cell_type": "code",
      "execution_count": 5,
      "metadata": {},
      "outputs": [
        {
          "name": "stdout",
          "output_type": "stream",
          "text": [
            "Avg. test accuracy: 78.832%\n",
            "              precision    recall  f1-score   support\n",
            "\n",
            "        Calm       0.95      1.00      0.97        39\n",
            "   Energetic       0.60      0.87      0.71        31\n",
            "       Happy       0.65      0.46      0.54        28\n",
            "         Sad       0.94      0.74      0.83        39\n",
            "\n",
            "    accuracy                           0.79       137\n",
            "   macro avg       0.78      0.77      0.76       137\n",
            "weighted avg       0.81      0.79      0.78       137\n",
            "\n"
          ]
        }
      ],
      "source": [
        "\n",
        "model.eval()\n",
        "X_test_tensor = torch.tensor(X_test).float()\n",
        "y_test_tensor = torch.tensor(y_test)\n",
        "\n",
        "with torch.no_grad():\n",
        "    pred = model(X_test_tensor.to(device))\n",
        "    predicted_labels = torch.argmax(pred, dim=1)\n",
        "    is_correct = (predicted_labels == y_test_tensor.to(device)).float()\n",
        "    accuracy = is_correct.sum() / len(is_correct)\n",
        "    print('Avg. test accuracy: %.3f' % (accuracy.item() * 100) + \"%\")\n",
        "\n",
        "    predicted_labels = predicted_labels.cpu().numpy()\n",
        "    predicted_moods = pd.Series(predicted_labels).map({0: 'Calm', 1: 'Energetic', 2: 'Happy', 3: 'Sad'})\n",
        "    test_moods = pd.Series(y_test).map({0: 'Calm', 1: 'Energetic', 2: 'Happy', 3: 'Sad'})\n",
        "    \n",
        "    print(classification_report(test_moods, predicted_moods))"
      ]
    },
    {
      "cell_type": "code",
      "execution_count": 6,
      "metadata": {},
      "outputs": [],
      "source": [
        "# Save model\n",
        "torch.save(model, \"lyrics_model.pt\")"
      ]
    },
    {
      "attachments": {},
      "cell_type": "markdown",
      "metadata": {
        "id": "R_z4YnUIDTxW"
      },
      "source": [
        "## Plot loss and accuracy history"
      ]
    },
    {
      "cell_type": "code",
      "execution_count": null,
      "metadata": {
        "colab": {
          "base_uri": "https://localhost:8080/",
          "height": 547
        },
        "id": "TUNW6aL07_EU",
        "outputId": "92a8ea26-3d84-4f71-d4a2-5939508e236a"
      },
      "outputs": [],
      "source": [
        "\"\"\" fig = plt.figure(figsize=(12, 5))\n",
        "fig.suptitle('ReLU activation function', fontsize=20, y=1.05)\n",
        "fig.set_facecolor('white')\n",
        "\n",
        "ax = fig.add_subplot(1, 2, 1)\n",
        "ax.plot(loss_hist, lw=3)\n",
        "ax.set_title('Training loss', size=15)\n",
        "ax.set_xlabel('Epoch', size=15)\n",
        "ax.tick_params(axis='both', which='major', labelsize=15)\n",
        "\n",
        "ax = fig.add_subplot(1, 2, 2)\n",
        "tensor_list = [tensor.to('cpu') for tensor in accuracy_hist]\n",
        "accuracy_hist = torch.stack(tensor_list).cpu().numpy()\n",
        "ax.plot(accuracy_hist, lw=3)\n",
        "ax.set_title('Training accuracy', size=15)\n",
        "ax.set_xlabel('Epoch', size=15)\n",
        "ax.tick_params(axis='both', which='major', labelsize=15)\n",
        "plt.tight_layout()\n",
        " \n",
        "plt.show() \"\"\""
      ]
    },
    {
      "attachments": {},
      "cell_type": "markdown",
      "metadata": {
        "id": "H0ZiUOyal-AI"
      },
      "source": [
        "## Test\n"
      ]
    },
    {
      "cell_type": "code",
      "execution_count": 18,
      "metadata": {
        "colab": {
          "base_uri": "https://localhost:8080/"
        },
        "id": "W-m9lU-imEpz",
        "outputId": "524195e4-f630-4618-e40c-403516526b3f"
      },
      "outputs": [
        {
          "name": "stdout",
          "output_type": "stream",
          "text": [
            "{'Calm': '0.060%', 'Energetic': '0.117%', 'Happy': '3.426%', 'Sad': '96.396%'}\n",
            "---> Sad\n"
          ]
        }
      ],
      "source": [
        "# Find data for Chop Suey! by System of a Down | Should be Energetic\n",
        "\"\"\" song_to_predict = {'danceability': [0.42], \n",
        "'acousticness': [0.000353], \n",
        "'energy': [0.929], \n",
        "'instrumentalness': [0.000747], \n",
        "'liveness': [0.122], \n",
        "'valence': [0.3], \n",
        "'loudness': [-3.899], \n",
        "'speechiness': [0.121], \n",
        "'tempo': [127.204], \n",
        "'key': [7], \n",
        "'time_signature': [4]}\n",
        " \"\"\"\n",
        "# Clair de Lune - Debussy | Should be Calm\n",
        "\"\"\" song_to_predict = {'danceability': [0.288], \n",
        " 'acousticness': [0.994], \n",
        " 'energy': [0.00341], \n",
        " 'instrumentalness': [0.914], \n",
        " 'liveness': [0.0655], \n",
        " 'valence': [0.054], \n",
        " 'loudness': [-36.278], \n",
        " 'speechiness': [0.047], \n",
        " 'tempo': [74.662], \n",
        " 'key': [1], \n",
        " 'time_signature': [4]} \"\"\"\n",
        "# Walking on Sunshine - Katrina & The Waves | Should be Happy\n",
        "\"\"\" song_to_predict = {'danceability': [0.596], \n",
        "'acousticness': [0.0116], \n",
        "'energy': [0.869], \n",
        "'instrumentalness': [0.173], \n",
        "'liveness': [0.0678], \n",
        "'valence': [0.944], \n",
        "'loudness': [-11.97], \n",
        "'speechiness': [0.037], \n",
        "'tempo': [109.902], \n",
        "'key': [10], \n",
        "'time_signature': [4]} \"\"\"\n",
        "# Hurt - Johnny Cash | Should be Sad\n",
        "song_to_predict = {'danceability': [0.534], \n",
        "'acousticness': [0.649], \n",
        "'energy': [0.392], \n",
        "'instrumentalness': [0.000227], \n",
        "'liveness': [0.0948], \n",
        "'valence': [0.163], \n",
        "'loudness': [-7.636], \n",
        "'speechiness': [0.0267], \n",
        "'tempo': [90.379], \n",
        "'key': [9], \n",
        "'time_signature': [4]}\n",
        "\n",
        "df_song_to_predict = pd.DataFrame(song_to_predict)\n",
        "\n",
        "# Normalize\n",
        "df_song_to_predict_norm = (df_song_to_predict - X_train.mean() / X_train.std())\n",
        "df_song_to_predict_norm = torch.tensor(df_song_to_predict_norm.values)\n",
        "\n",
        "# Use saved model\n",
        "model = torch.load('lyrics_model.pt', map_location=torch.device('cpu'))\n",
        "model.eval()\n",
        "\n",
        "# Predict\n",
        "inputs = df_song_to_predict_norm\n",
        "with torch.no_grad():\n",
        "  pred = model(inputs.float())\n",
        "label_id = torch.argmax(pred)\n",
        "\n",
        "if label_id == 0:\n",
        "  output_label = \"Calm\"\n",
        "if label_id == 1:\n",
        "  output_label = \"Energetic\"\n",
        "if label_id == 2:\n",
        "  output_label = \"Happy\"\n",
        "if label_id == 3:\n",
        "  output_label = \"Sad\"\n",
        "\n",
        "predlist = pred.tolist()[0]\n",
        "print({'Calm': f'{(predlist[0] * 100):.3f}%', 'Energetic': f'{(predlist[1] * 100):.3f}%', 'Happy': f'{(predlist[2] * 100):.3f}%', 'Sad': f'{(predlist[3] * 100):.3f}%'})\n",
        "print('--->', output_label)"
      ]
    }
  ],
  "metadata": {
    "accelerator": "GPU",
    "colab": {
      "gpuType": "T4",
      "provenance": []
    },
    "gpuClass": "standard",
    "kernelspec": {
      "display_name": "Python 3",
      "name": "python3"
    },
    "language_info": {
      "codemirror_mode": {
        "name": "ipython",
        "version": 3
      },
      "file_extension": ".py",
      "mimetype": "text/x-python",
      "name": "python",
      "nbconvert_exporter": "python",
      "pygments_lexer": "ipython3",
      "version": "3.11.3"
    }
  },
  "nbformat": 4,
  "nbformat_minor": 0
}
